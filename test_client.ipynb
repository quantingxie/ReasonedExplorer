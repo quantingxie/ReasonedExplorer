{
 "cells": [
  {
   "cell_type": "code",
   "execution_count": 4,
   "metadata": {},
   "outputs": [
    {
     "name": "stdout",
     "output_type": "stream",
     "text": [
      "{'all_objects': '', 'found': False, 'result': '<image>Embedding</image> Describe the objects in the image and summarize the scene. The image features a city street with a stone wall and a few cars parked along the side of the road. The scene is set in a city with tall buildings in the background. There are several cars parked on the side, with some closer to the foreground and others further away. A person can be seen walking down the street, possibly heading towards the cars or waiting for someone. The overall atmosphere of the scene is one of urban life and the presence of cars in the city.'}\n",
      "Extracted Text: <image>Embedding</image> Describe the objects in the image and summarize the scene. The image features a city street with a stone wall and a few cars parked along the side of the road. The scene is set in a city with tall buildings in the background. There are several cars parked on the side, with some closer to the foreground and others further away. A person can be seen walking down the street, possibly heading towards the cars or waiting for someone. The overall atmosphere of the scene is one of urban life and the presence of cars in the city.\n",
      "Found woman: False\n",
      "Found all objects: \n"
     ]
    }
   ],
   "source": [
    "import requests\n",
    "\n",
    "# Define the URL for the Flask app\n",
    "# app_url = 'http://localhost:5000'  # Update the URL as needed\n",
    "app_url = \"https://6bb0-128-237-82-20.ngrok-free.app\"\n",
    "\n",
    "# Define the image file to upload\n",
    "image_file = {'image': open('image.png', 'rb')}\n",
    "prompt1 = \"<image>0</image>Describe the objects in the image and summarize\"\n",
    "prompt2 = \"<image>0</image><grounding>list all objects in the image <phrase>\"\n",
    "goal = \"woman\"\n",
    "threshold=0.05\n",
    "\n",
    "try:\n",
    "    # Send a POST request with the image file\n",
    "    response = requests.post(app_url, files=image_file, data={'text_inputs': prompt1, 'grounding_prompt':prompt2, 'goal':goal,'threshold':threshold})\n",
    "    data = response.json()\n",
    "    print(data)\n",
    "    if 'result' in data:\n",
    "        print(\"Extracted Text:\", data['result'])\n",
    "    elif 'error' in data:\n",
    "        print(\"Error:\", data['error'])\n",
    "    if 'found' in data:\n",
    "        print(f\"Found {goal}:\", data['found'])\n",
    "    if 'all_objects' in data:\n",
    "        print(f\"Found all objects:\", data['all_objects'])\n",
    "\n",
    "except requests.exceptions.RequestException as e:\n",
    "    print(\"Request Error:\", e)\n"
   ]
  },
  {
   "cell_type": "code",
   "execution_count": null,
   "metadata": {},
   "outputs": [],
   "source": []
  }
 ],
 "metadata": {
  "kernelspec": {
   "display_name": "kosmos2",
   "language": "python",
   "name": "python3"
  },
  "language_info": {
   "codemirror_mode": {
    "name": "ipython",
    "version": 3
   },
   "file_extension": ".py",
   "mimetype": "text/x-python",
   "name": "python",
   "nbconvert_exporter": "python",
   "pygments_lexer": "ipython3",
   "version": "3.11.5"
  },
  "orig_nbformat": 4
 },
 "nbformat": 4,
 "nbformat_minor": 2
}
